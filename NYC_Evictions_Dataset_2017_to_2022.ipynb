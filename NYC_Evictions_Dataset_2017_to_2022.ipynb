{
  "nbformat": 4,
  "nbformat_minor": 0,
  "metadata": {
    "colab": {
      "provenance": []
    },
    "kernelspec": {
      "name": "python3",
      "display_name": "Python 3"
    },
    "language_info": {
      "name": "python"
    }
  },
  "cells": [
    {
      "cell_type": "markdown",
      "source": [
        "**Evictions Dataset Description**\n",
        "\n",
        "This dataset lists pending, scheduled, and executed evictions within the five boroughs,\n",
        "for the year 2017 - early 2022. The data fields may be sorted by Court Index Number,\n",
        "Docket Number, Eviction Address, Apartment Number, Executed Date, Marshal First\n",
        "Name, Marshal Last Name, Residential or Commercial (property type), Borough, Zip\n",
        "Code and Scheduled Status (Pending/Scheduled)."
      ],
      "metadata": {
        "id": "iU5eAxmrCdjl"
      }
    },
    {
      "cell_type": "markdown",
      "source": [
        "1. Import pandas  "
      ],
      "metadata": {
        "id": "SdnH9QNQE1ys"
      }
    },
    {
      "cell_type": "code",
      "source": [
        "import pandas as pd"
      ],
      "metadata": {
        "id": "mDU0c--PExUP"
      },
      "execution_count": null,
      "outputs": []
    },
    {
      "cell_type": "markdown",
      "source": [
        "2. Read CSV into DataFrame"
      ],
      "metadata": {
        "id": "ycIUhYvcDq2r"
      }
    },
    {
      "cell_type": "code",
      "source": [
        "evictions_df = pd.read_csv('Evictions.csv')\n",
        "evictions_df"
      ],
      "metadata": {
        "colab": {
          "base_uri": "https://localhost:8080/",
          "height": 904
        },
        "id": "B4k7A4JHCshm",
        "outputId": "e3f43df8-dc89-452b-c2a6-746205ed566f"
      },
      "execution_count": null,
      "outputs": [
        {
          "output_type": "execute_result",
          "data": {
            "text/plain": [
              "      Court Index Number  Docket Number          Eviction Address  \\\n",
              "0               50365/19          352435     319 WEST 94TH STREET   \n",
              "1             B068159/16          379048         2332 CRESTON AVE   \n",
              "2               59891/16          320691   2670 BAINBRIDGE AVENUE   \n",
              "3               75708/18          115775          18-24 25TH ROAD   \n",
              "4              900940/18           86395  3005 EASTCHESTER  RO AD   \n",
              "...                  ...             ...                      ...   \n",
              "67723         R 50452/17           68450     182 ARLINGTON AVENUE   \n",
              "67724          N66489/17           81749   600 WEST 136TH STREE T   \n",
              "67725         60675/17-1          208636         115 LINCOLN ROAD   \n",
              "67726          B42335/17           83318  1131-1133 OGDEN AVEN UE   \n",
              "67727           20290/16           59510             5 FLEET WALK   \n",
              "\n",
              "      Eviction Apartment Number Executed Date Marshal First Name  \\\n",
              "0                          C103    03/25/2019             Thomas   \n",
              "1                            41    04/25/2017            Richard   \n",
              "2                            2F    02/21/2017               John   \n",
              "3                             1    04/23/2019             Maxine   \n",
              "4                    STOREFRONT    11/08/2018             Justin   \n",
              "...                         ...           ...                ...   \n",
              "67723                       NaN    03/29/2017             Steven   \n",
              "67724                        6F    09/27/2017             Ileana   \n",
              "67725                        3N    01/09/2020            Richard   \n",
              "67726                       12A    12/13/2017             Ileana   \n",
              "67727                       08E    08/02/2017             Justin   \n",
              "\n",
              "      Marshal Last Name Residential/Commercial        BOROUGH  \\\n",
              "0                   Bia            Residential      MANHATTAN   \n",
              "1                 McCoy            Residential          BRONX   \n",
              "2            Villanueva            Residential          BRONX   \n",
              "3              Chevlowe            Residential         QUEENS   \n",
              "4              Grossman             Commercial          BRONX   \n",
              "...                 ...                    ...            ...   \n",
              "67723            Powell            Residential  STATEN ISLAND   \n",
              "67724            Rivera            Residential      MANHATTAN   \n",
              "67725           Capuano            Residential       BROOKLYN   \n",
              "67726            Rivera            Residential          BRONX   \n",
              "67727          Grossman            Residential       BROOKLYN   \n",
              "\n",
              "       Eviction Postcode         Ejectment Eviction/Legal Possession  \\\n",
              "0                  10025  Not an Ejectment                Possession   \n",
              "1                  10468  Not an Ejectment                Possession   \n",
              "2                  10458  Not an Ejectment                Possession   \n",
              "3                  11102  Not an Ejectment                Possession   \n",
              "4                  10469  Not an Ejectment                Possession   \n",
              "...                  ...               ...                       ...   \n",
              "67723              10303  Not an Ejectment                Possession   \n",
              "67724              10031  Not an Ejectment                Possession   \n",
              "67725              11225  Not an Ejectment                Possession   \n",
              "67726              10452  Not an Ejectment                Possession   \n",
              "67727              11201  Not an Ejectment                Possession   \n",
              "\n",
              "        Latitude  Longitude  Community Board  Council District  Census Tract  \\\n",
              "0      40.794205 -73.974734              7.0               6.0         183.0   \n",
              "1      40.858643 -73.900402              5.0              14.0       23703.0   \n",
              "2      40.865470 -73.891472              7.0              15.0       40502.0   \n",
              "3      40.774861 -73.926140              1.0              22.0          91.0   \n",
              "4      40.869607 -73.842766             12.0              12.0         358.0   \n",
              "...          ...        ...              ...               ...           ...   \n",
              "67723  40.635485 -74.167531              1.0              49.0         323.0   \n",
              "67724  40.820935 -73.954996              9.0               7.0       22301.0   \n",
              "67725  40.661077 -73.958799              9.0              40.0       79801.0   \n",
              "67726  40.836286 -73.927496              4.0              16.0         199.0   \n",
              "67727  40.695529 -73.981230              2.0              35.0          15.0   \n",
              "\n",
              "             BIN           BBL  \\\n",
              "0      1034178.0  1.012530e+09   \n",
              "1      2013777.0  2.031640e+09   \n",
              "2      2016620.0  2.032870e+09   \n",
              "3      4019956.0  4.008870e+09   \n",
              "4      2061802.0  2.047620e+09   \n",
              "...          ...           ...   \n",
              "67723  5028488.0  5.012670e+09   \n",
              "67724  1059959.0  1.020020e+09   \n",
              "67725  3379187.0  3.013270e+09   \n",
              "67726  2088158.0  2.025260e+09   \n",
              "67727  3257046.0  3.020500e+09   \n",
              "\n",
              "                                                     NTA  \n",
              "0                                        Upper West Side  \n",
              "1                                          Fordham South  \n",
              "2                             Bedford Park-Fordham North  \n",
              "3                                            Old Astoria  \n",
              "4                        Eastchester-Edenwald-Baychester  \n",
              "...                                                  ...  \n",
              "67723  Mariner's Harbor-Arlington-Port Ivory-Granitev...  \n",
              "67724                                     Manhattanville  \n",
              "67725                  Prospect Lefferts Gardens-Wingate  \n",
              "67726                                         Highbridge  \n",
              "67727   DUMBO-Vinegar Hill-Downtown Brooklyn-Boerum Hill  \n",
              "\n",
              "[67728 rows x 20 columns]"
            ],
            "text/html": [
              "\n",
              "  <div id=\"df-89b1e1c9-1378-4664-a666-2562db0dbe27\">\n",
              "    <div class=\"colab-df-container\">\n",
              "      <div>\n",
              "<style scoped>\n",
              "    .dataframe tbody tr th:only-of-type {\n",
              "        vertical-align: middle;\n",
              "    }\n",
              "\n",
              "    .dataframe tbody tr th {\n",
              "        vertical-align: top;\n",
              "    }\n",
              "\n",
              "    .dataframe thead th {\n",
              "        text-align: right;\n",
              "    }\n",
              "</style>\n",
              "<table border=\"1\" class=\"dataframe\">\n",
              "  <thead>\n",
              "    <tr style=\"text-align: right;\">\n",
              "      <th></th>\n",
              "      <th>Court Index Number</th>\n",
              "      <th>Docket Number</th>\n",
              "      <th>Eviction Address</th>\n",
              "      <th>Eviction Apartment Number</th>\n",
              "      <th>Executed Date</th>\n",
              "      <th>Marshal First Name</th>\n",
              "      <th>Marshal Last Name</th>\n",
              "      <th>Residential/Commercial</th>\n",
              "      <th>BOROUGH</th>\n",
              "      <th>Eviction Postcode</th>\n",
              "      <th>Ejectment</th>\n",
              "      <th>Eviction/Legal Possession</th>\n",
              "      <th>Latitude</th>\n",
              "      <th>Longitude</th>\n",
              "      <th>Community Board</th>\n",
              "      <th>Council District</th>\n",
              "      <th>Census Tract</th>\n",
              "      <th>BIN</th>\n",
              "      <th>BBL</th>\n",
              "      <th>NTA</th>\n",
              "    </tr>\n",
              "  </thead>\n",
              "  <tbody>\n",
              "    <tr>\n",
              "      <th>0</th>\n",
              "      <td>50365/19</td>\n",
              "      <td>352435</td>\n",
              "      <td>319 WEST 94TH STREET</td>\n",
              "      <td>C103</td>\n",
              "      <td>03/25/2019</td>\n",
              "      <td>Thomas</td>\n",
              "      <td>Bia</td>\n",
              "      <td>Residential</td>\n",
              "      <td>MANHATTAN</td>\n",
              "      <td>10025</td>\n",
              "      <td>Not an Ejectment</td>\n",
              "      <td>Possession</td>\n",
              "      <td>40.794205</td>\n",
              "      <td>-73.974734</td>\n",
              "      <td>7.0</td>\n",
              "      <td>6.0</td>\n",
              "      <td>183.0</td>\n",
              "      <td>1034178.0</td>\n",
              "      <td>1.012530e+09</td>\n",
              "      <td>Upper West Side</td>\n",
              "    </tr>\n",
              "    <tr>\n",
              "      <th>1</th>\n",
              "      <td>B068159/16</td>\n",
              "      <td>379048</td>\n",
              "      <td>2332 CRESTON AVE</td>\n",
              "      <td>41</td>\n",
              "      <td>04/25/2017</td>\n",
              "      <td>Richard</td>\n",
              "      <td>McCoy</td>\n",
              "      <td>Residential</td>\n",
              "      <td>BRONX</td>\n",
              "      <td>10468</td>\n",
              "      <td>Not an Ejectment</td>\n",
              "      <td>Possession</td>\n",
              "      <td>40.858643</td>\n",
              "      <td>-73.900402</td>\n",
              "      <td>5.0</td>\n",
              "      <td>14.0</td>\n",
              "      <td>23703.0</td>\n",
              "      <td>2013777.0</td>\n",
              "      <td>2.031640e+09</td>\n",
              "      <td>Fordham South</td>\n",
              "    </tr>\n",
              "    <tr>\n",
              "      <th>2</th>\n",
              "      <td>59891/16</td>\n",
              "      <td>320691</td>\n",
              "      <td>2670 BAINBRIDGE AVENUE</td>\n",
              "      <td>2F</td>\n",
              "      <td>02/21/2017</td>\n",
              "      <td>John</td>\n",
              "      <td>Villanueva</td>\n",
              "      <td>Residential</td>\n",
              "      <td>BRONX</td>\n",
              "      <td>10458</td>\n",
              "      <td>Not an Ejectment</td>\n",
              "      <td>Possession</td>\n",
              "      <td>40.865470</td>\n",
              "      <td>-73.891472</td>\n",
              "      <td>7.0</td>\n",
              "      <td>15.0</td>\n",
              "      <td>40502.0</td>\n",
              "      <td>2016620.0</td>\n",
              "      <td>2.032870e+09</td>\n",
              "      <td>Bedford Park-Fordham North</td>\n",
              "    </tr>\n",
              "    <tr>\n",
              "      <th>3</th>\n",
              "      <td>75708/18</td>\n",
              "      <td>115775</td>\n",
              "      <td>18-24 25TH ROAD</td>\n",
              "      <td>1</td>\n",
              "      <td>04/23/2019</td>\n",
              "      <td>Maxine</td>\n",
              "      <td>Chevlowe</td>\n",
              "      <td>Residential</td>\n",
              "      <td>QUEENS</td>\n",
              "      <td>11102</td>\n",
              "      <td>Not an Ejectment</td>\n",
              "      <td>Possession</td>\n",
              "      <td>40.774861</td>\n",
              "      <td>-73.926140</td>\n",
              "      <td>1.0</td>\n",
              "      <td>22.0</td>\n",
              "      <td>91.0</td>\n",
              "      <td>4019956.0</td>\n",
              "      <td>4.008870e+09</td>\n",
              "      <td>Old Astoria</td>\n",
              "    </tr>\n",
              "    <tr>\n",
              "      <th>4</th>\n",
              "      <td>900940/18</td>\n",
              "      <td>86395</td>\n",
              "      <td>3005 EASTCHESTER  RO AD</td>\n",
              "      <td>STOREFRONT</td>\n",
              "      <td>11/08/2018</td>\n",
              "      <td>Justin</td>\n",
              "      <td>Grossman</td>\n",
              "      <td>Commercial</td>\n",
              "      <td>BRONX</td>\n",
              "      <td>10469</td>\n",
              "      <td>Not an Ejectment</td>\n",
              "      <td>Possession</td>\n",
              "      <td>40.869607</td>\n",
              "      <td>-73.842766</td>\n",
              "      <td>12.0</td>\n",
              "      <td>12.0</td>\n",
              "      <td>358.0</td>\n",
              "      <td>2061802.0</td>\n",
              "      <td>2.047620e+09</td>\n",
              "      <td>Eastchester-Edenwald-Baychester</td>\n",
              "    </tr>\n",
              "    <tr>\n",
              "      <th>...</th>\n",
              "      <td>...</td>\n",
              "      <td>...</td>\n",
              "      <td>...</td>\n",
              "      <td>...</td>\n",
              "      <td>...</td>\n",
              "      <td>...</td>\n",
              "      <td>...</td>\n",
              "      <td>...</td>\n",
              "      <td>...</td>\n",
              "      <td>...</td>\n",
              "      <td>...</td>\n",
              "      <td>...</td>\n",
              "      <td>...</td>\n",
              "      <td>...</td>\n",
              "      <td>...</td>\n",
              "      <td>...</td>\n",
              "      <td>...</td>\n",
              "      <td>...</td>\n",
              "      <td>...</td>\n",
              "      <td>...</td>\n",
              "    </tr>\n",
              "    <tr>\n",
              "      <th>67723</th>\n",
              "      <td>R 50452/17</td>\n",
              "      <td>68450</td>\n",
              "      <td>182 ARLINGTON AVENUE</td>\n",
              "      <td>NaN</td>\n",
              "      <td>03/29/2017</td>\n",
              "      <td>Steven</td>\n",
              "      <td>Powell</td>\n",
              "      <td>Residential</td>\n",
              "      <td>STATEN ISLAND</td>\n",
              "      <td>10303</td>\n",
              "      <td>Not an Ejectment</td>\n",
              "      <td>Possession</td>\n",
              "      <td>40.635485</td>\n",
              "      <td>-74.167531</td>\n",
              "      <td>1.0</td>\n",
              "      <td>49.0</td>\n",
              "      <td>323.0</td>\n",
              "      <td>5028488.0</td>\n",
              "      <td>5.012670e+09</td>\n",
              "      <td>Mariner's Harbor-Arlington-Port Ivory-Granitev...</td>\n",
              "    </tr>\n",
              "    <tr>\n",
              "      <th>67724</th>\n",
              "      <td>N66489/17</td>\n",
              "      <td>81749</td>\n",
              "      <td>600 WEST 136TH STREE T</td>\n",
              "      <td>6F</td>\n",
              "      <td>09/27/2017</td>\n",
              "      <td>Ileana</td>\n",
              "      <td>Rivera</td>\n",
              "      <td>Residential</td>\n",
              "      <td>MANHATTAN</td>\n",
              "      <td>10031</td>\n",
              "      <td>Not an Ejectment</td>\n",
              "      <td>Possession</td>\n",
              "      <td>40.820935</td>\n",
              "      <td>-73.954996</td>\n",
              "      <td>9.0</td>\n",
              "      <td>7.0</td>\n",
              "      <td>22301.0</td>\n",
              "      <td>1059959.0</td>\n",
              "      <td>1.020020e+09</td>\n",
              "      <td>Manhattanville</td>\n",
              "    </tr>\n",
              "    <tr>\n",
              "      <th>67725</th>\n",
              "      <td>60675/17-1</td>\n",
              "      <td>208636</td>\n",
              "      <td>115 LINCOLN ROAD</td>\n",
              "      <td>3N</td>\n",
              "      <td>01/09/2020</td>\n",
              "      <td>Richard</td>\n",
              "      <td>Capuano</td>\n",
              "      <td>Residential</td>\n",
              "      <td>BROOKLYN</td>\n",
              "      <td>11225</td>\n",
              "      <td>Not an Ejectment</td>\n",
              "      <td>Possession</td>\n",
              "      <td>40.661077</td>\n",
              "      <td>-73.958799</td>\n",
              "      <td>9.0</td>\n",
              "      <td>40.0</td>\n",
              "      <td>79801.0</td>\n",
              "      <td>3379187.0</td>\n",
              "      <td>3.013270e+09</td>\n",
              "      <td>Prospect Lefferts Gardens-Wingate</td>\n",
              "    </tr>\n",
              "    <tr>\n",
              "      <th>67726</th>\n",
              "      <td>B42335/17</td>\n",
              "      <td>83318</td>\n",
              "      <td>1131-1133 OGDEN AVEN UE</td>\n",
              "      <td>12A</td>\n",
              "      <td>12/13/2017</td>\n",
              "      <td>Ileana</td>\n",
              "      <td>Rivera</td>\n",
              "      <td>Residential</td>\n",
              "      <td>BRONX</td>\n",
              "      <td>10452</td>\n",
              "      <td>Not an Ejectment</td>\n",
              "      <td>Possession</td>\n",
              "      <td>40.836286</td>\n",
              "      <td>-73.927496</td>\n",
              "      <td>4.0</td>\n",
              "      <td>16.0</td>\n",
              "      <td>199.0</td>\n",
              "      <td>2088158.0</td>\n",
              "      <td>2.025260e+09</td>\n",
              "      <td>Highbridge</td>\n",
              "    </tr>\n",
              "    <tr>\n",
              "      <th>67727</th>\n",
              "      <td>20290/16</td>\n",
              "      <td>59510</td>\n",
              "      <td>5 FLEET WALK</td>\n",
              "      <td>08E</td>\n",
              "      <td>08/02/2017</td>\n",
              "      <td>Justin</td>\n",
              "      <td>Grossman</td>\n",
              "      <td>Residential</td>\n",
              "      <td>BROOKLYN</td>\n",
              "      <td>11201</td>\n",
              "      <td>Not an Ejectment</td>\n",
              "      <td>Possession</td>\n",
              "      <td>40.695529</td>\n",
              "      <td>-73.981230</td>\n",
              "      <td>2.0</td>\n",
              "      <td>35.0</td>\n",
              "      <td>15.0</td>\n",
              "      <td>3257046.0</td>\n",
              "      <td>3.020500e+09</td>\n",
              "      <td>DUMBO-Vinegar Hill-Downtown Brooklyn-Boerum Hill</td>\n",
              "    </tr>\n",
              "  </tbody>\n",
              "</table>\n",
              "<p>67728 rows × 20 columns</p>\n",
              "</div>\n",
              "      <button class=\"colab-df-convert\" onclick=\"convertToInteractive('df-89b1e1c9-1378-4664-a666-2562db0dbe27')\"\n",
              "              title=\"Convert this dataframe to an interactive table.\"\n",
              "              style=\"display:none;\">\n",
              "        \n",
              "  <svg xmlns=\"http://www.w3.org/2000/svg\" height=\"24px\"viewBox=\"0 0 24 24\"\n",
              "       width=\"24px\">\n",
              "    <path d=\"M0 0h24v24H0V0z\" fill=\"none\"/>\n",
              "    <path d=\"M18.56 5.44l.94 2.06.94-2.06 2.06-.94-2.06-.94-.94-2.06-.94 2.06-2.06.94zm-11 1L8.5 8.5l.94-2.06 2.06-.94-2.06-.94L8.5 2.5l-.94 2.06-2.06.94zm10 10l.94 2.06.94-2.06 2.06-.94-2.06-.94-.94-2.06-.94 2.06-2.06.94z\"/><path d=\"M17.41 7.96l-1.37-1.37c-.4-.4-.92-.59-1.43-.59-.52 0-1.04.2-1.43.59L10.3 9.45l-7.72 7.72c-.78.78-.78 2.05 0 2.83L4 21.41c.39.39.9.59 1.41.59.51 0 1.02-.2 1.41-.59l7.78-7.78 2.81-2.81c.8-.78.8-2.07 0-2.86zM5.41 20L4 18.59l7.72-7.72 1.47 1.35L5.41 20z\"/>\n",
              "  </svg>\n",
              "      </button>\n",
              "      \n",
              "  <style>\n",
              "    .colab-df-container {\n",
              "      display:flex;\n",
              "      flex-wrap:wrap;\n",
              "      gap: 12px;\n",
              "    }\n",
              "\n",
              "    .colab-df-convert {\n",
              "      background-color: #E8F0FE;\n",
              "      border: none;\n",
              "      border-radius: 50%;\n",
              "      cursor: pointer;\n",
              "      display: none;\n",
              "      fill: #1967D2;\n",
              "      height: 32px;\n",
              "      padding: 0 0 0 0;\n",
              "      width: 32px;\n",
              "    }\n",
              "\n",
              "    .colab-df-convert:hover {\n",
              "      background-color: #E2EBFA;\n",
              "      box-shadow: 0px 1px 2px rgba(60, 64, 67, 0.3), 0px 1px 3px 1px rgba(60, 64, 67, 0.15);\n",
              "      fill: #174EA6;\n",
              "    }\n",
              "\n",
              "    [theme=dark] .colab-df-convert {\n",
              "      background-color: #3B4455;\n",
              "      fill: #D2E3FC;\n",
              "    }\n",
              "\n",
              "    [theme=dark] .colab-df-convert:hover {\n",
              "      background-color: #434B5C;\n",
              "      box-shadow: 0px 1px 3px 1px rgba(0, 0, 0, 0.15);\n",
              "      filter: drop-shadow(0px 1px 2px rgba(0, 0, 0, 0.3));\n",
              "      fill: #FFFFFF;\n",
              "    }\n",
              "  </style>\n",
              "\n",
              "      <script>\n",
              "        const buttonEl =\n",
              "          document.querySelector('#df-89b1e1c9-1378-4664-a666-2562db0dbe27 button.colab-df-convert');\n",
              "        buttonEl.style.display =\n",
              "          google.colab.kernel.accessAllowed ? 'block' : 'none';\n",
              "\n",
              "        async function convertToInteractive(key) {\n",
              "          const element = document.querySelector('#df-89b1e1c9-1378-4664-a666-2562db0dbe27');\n",
              "          const dataTable =\n",
              "            await google.colab.kernel.invokeFunction('convertToInteractive',\n",
              "                                                     [key], {});\n",
              "          if (!dataTable) return;\n",
              "\n",
              "          const docLinkHtml = 'Like what you see? Visit the ' +\n",
              "            '<a target=\"_blank\" href=https://colab.research.google.com/notebooks/data_table.ipynb>data table notebook</a>'\n",
              "            + ' to learn more about interactive tables.';\n",
              "          element.innerHTML = '';\n",
              "          dataTable['output_type'] = 'display_data';\n",
              "          await google.colab.output.renderOutput(dataTable, element);\n",
              "          const docLink = document.createElement('div');\n",
              "          docLink.innerHTML = docLinkHtml;\n",
              "          element.appendChild(docLink);\n",
              "        }\n",
              "      </script>\n",
              "    </div>\n",
              "  </div>\n",
              "  "
            ]
          },
          "metadata": {},
          "execution_count": 2
        }
      ]
    },
    {
      "cell_type": "markdown",
      "source": [
        "3. Explore the data and its structure"
      ],
      "metadata": {
        "id": "ED2uZzgYFV_k"
      }
    },
    {
      "cell_type": "code",
      "source": [
        "# .shape shows the number of rows and columns\n",
        "evictions_df.shape"
      ],
      "metadata": {
        "colab": {
          "base_uri": "https://localhost:8080/"
        },
        "id": "hwZfzbH2FvQg",
        "outputId": "618d1817-1adb-41f8-99c1-d91c44857b86"
      },
      "execution_count": null,
      "outputs": [
        {
          "output_type": "execute_result",
          "data": {
            "text/plain": [
              "(67728, 20)"
            ]
          },
          "metadata": {},
          "execution_count": 3
        }
      ]
    },
    {
      "cell_type": "code",
      "source": [
        "# .dtypes shows the data types\n",
        "evictions_df.dtypes"
      ],
      "metadata": {
        "colab": {
          "base_uri": "https://localhost:8080/"
        },
        "id": "ZHglGzjtF511",
        "outputId": "96ce441c-9227-494e-9064-070b29751f6b"
      },
      "execution_count": null,
      "outputs": [
        {
          "output_type": "execute_result",
          "data": {
            "text/plain": [
              "Court Index Number            object\n",
              "Docket Number                  int64\n",
              "Eviction Address              object\n",
              "Eviction Apartment Number     object\n",
              "Executed Date                 object\n",
              "Marshal First Name            object\n",
              "Marshal Last Name             object\n",
              "Residential/Commercial        object\n",
              "BOROUGH                       object\n",
              "Eviction Postcode              int64\n",
              "Ejectment                     object\n",
              "Eviction/Legal Possession     object\n",
              "Latitude                     float64\n",
              "Longitude                    float64\n",
              "Community Board              float64\n",
              "Council District             float64\n",
              "Census Tract                 float64\n",
              "BIN                          float64\n",
              "BBL                          float64\n",
              "NTA                           object\n",
              "dtype: object"
            ]
          },
          "metadata": {},
          "execution_count": 4
        }
      ]
    },
    {
      "cell_type": "code",
      "source": [
        "# .isnull() detects missing values\n",
        "# To get the total summation of all missing values in the dataframe,\n",
        "# chain two .sum() methods together\n",
        "evictions_df.isnull().sum().sum()"
      ],
      "metadata": {
        "colab": {
          "base_uri": "https://localhost:8080/"
        },
        "id": "ujKa5syjF5-q",
        "outputId": "a409f70a-68f8-43a3-dfcb-68c3ab92f997"
      },
      "execution_count": null,
      "outputs": [
        {
          "output_type": "execute_result",
          "data": {
            "text/plain": [
              "62997"
            ]
          },
          "metadata": {},
          "execution_count": 5
        }
      ]
    },
    {
      "cell_type": "markdown",
      "source": [
        "The DataFrame contains 62997 missing values. We want to further investigate where these missing values are.  "
      ],
      "metadata": {
        "id": "YqJxufy1GOsg"
      }
    },
    {
      "cell_type": "code",
      "source": [
        "# .isna() detects missing values in columns\n",
        "evictions_df.isna().sum()"
      ],
      "metadata": {
        "colab": {
          "base_uri": "https://localhost:8080/"
        },
        "id": "JrVCxO7nGoDX",
        "outputId": "e1d9f7cd-d66f-41ee-a1e4-2fd1d1a6d54e"
      },
      "execution_count": null,
      "outputs": [
        {
          "output_type": "execute_result",
          "data": {
            "text/plain": [
              "Court Index Number               0\n",
              "Docket Number                    0\n",
              "Eviction Address                 0\n",
              "Eviction Apartment Number    11209\n",
              "Executed Date                    0\n",
              "Marshal First Name               0\n",
              "Marshal Last Name                0\n",
              "Residential/Commercial           0\n",
              "BOROUGH                          0\n",
              "Eviction Postcode                0\n",
              "Ejectment                        0\n",
              "Eviction/Legal Possession        0\n",
              "Latitude                      6444\n",
              "Longitude                     6444\n",
              "Community Board               6444\n",
              "Council District              6444\n",
              "Census Tract                  6444\n",
              "BIN                           6562\n",
              "BBL                           6562\n",
              "NTA                           6444\n",
              "dtype: int64"
            ]
          },
          "metadata": {},
          "execution_count": 6
        }
      ]
    },
    {
      "cell_type": "markdown",
      "source": [
        "Missing values:\n",
        "\n",
        "\n",
        "*   11209 missing values in the 'Eviction Apartment Number' column\n",
        "*   6444 missing values in the 'Latitude' column\n",
        "* 6444 missing values in the 'Longitude' column\n",
        "* 6444 missing values in the 'Community Board' column\n",
        "* 6444 missing values in the 'Council District' column\n",
        "* 6444 missing values in the 'Census Tract' column\n",
        "* 6562 missing values in the 'BIN' column\n",
        "* 6562 missing values in the 'BBL' column\n",
        "* 6444 missing values in the 'NTA' column\n",
        "\n"
      ],
      "metadata": {
        "id": "FwNiiujWG1S4"
      }
    },
    {
      "cell_type": "markdown",
      "source": [
        "4. Investigate the missing values and clean the data"
      ],
      "metadata": {
        "id": "_CKOn_0cKC3w"
      }
    },
    {
      "cell_type": "code",
      "source": [
        "# Missing values in the Eviction Apartment Number column\n",
        "# Not all Eviction Addresses are apartments\n",
        "# Hence we will ignore this"
      ],
      "metadata": {
        "id": "CZCpDaQaHsbY"
      },
      "execution_count": null,
      "outputs": []
    },
    {
      "cell_type": "code",
      "source": [
        "# Looking at the number of missing values across all columns it is\n",
        "# possible that the rows with the missing values in 'Latitude' are also the\n",
        "# same rows with missing values in 'Longitude', 'Community Board', 'Council District',\n",
        "# 'Census Tract', 'BIN', 'BBL', and 'NTA'\n",
        "\n",
        "# Hence we are going to drop the rows with null values in the 'Latitude' column\n",
        "\n",
        "# .dropna() removes all rows that contain NULL values\n",
        "# subset drops rows with NA values in a specific column\n",
        "# reset_index(drop=True) will re-index the index after sorting\n",
        "evictions_df = evictions_df.dropna(subset=['Latitude']).reset_index(drop=True)"
      ],
      "metadata": {
        "id": "U154Ydj69WdV"
      },
      "execution_count": null,
      "outputs": []
    },
    {
      "cell_type": "code",
      "source": [
        "# View the changes in the number of missing values across all columns after dropping rows with\n",
        "# null values in the 'Latitude' column\n",
        "\n",
        "# .isna() detects missing values in columns\n",
        "evictions_df.isna().sum()"
      ],
      "metadata": {
        "colab": {
          "base_uri": "https://localhost:8080/"
        },
        "id": "aBPMFqIh_iI2",
        "outputId": "2225518b-ca09-4a84-d617-0cf60a9726f3"
      },
      "execution_count": null,
      "outputs": [
        {
          "output_type": "execute_result",
          "data": {
            "text/plain": [
              "Court Index Number              0\n",
              "Docket Number                   0\n",
              "Eviction Address                0\n",
              "Eviction Apartment Number    7364\n",
              "Executed Date                   0\n",
              "Marshal First Name              0\n",
              "Marshal Last Name               0\n",
              "Residential/Commercial          0\n",
              "BOROUGH                         0\n",
              "Eviction Postcode               0\n",
              "Ejectment                       0\n",
              "Eviction/Legal Possession       0\n",
              "Latitude                        0\n",
              "Longitude                       0\n",
              "Community Board                 0\n",
              "Council District                0\n",
              "Census Tract                    0\n",
              "BIN                           118\n",
              "BBL                           118\n",
              "NTA                             0\n",
              "dtype: int64"
            ]
          },
          "metadata": {},
          "execution_count": 9
        }
      ]
    },
    {
      "cell_type": "markdown",
      "source": [
        "By dropping the rows with null values in the 'Latitude' column, we noticed a decrease in the number of missing values in the 'Eviction Apartment Number' column as well as the 'BIN' and 'BBL' columns. Furthermore, the number of missing values for the columns 'Longitude', 'Community Board', 'Council District', 'Census Tract', and 'NTA' are now 0.\n"
      ],
      "metadata": {
        "id": "UC34PEfwAmh7"
      }
    },
    {
      "cell_type": "code",
      "source": [
        "# View the change in the dimension of the DataFrame\n",
        "# .shape shows the number of rows and columns\n",
        "evictions_df.shape"
      ],
      "metadata": {
        "colab": {
          "base_uri": "https://localhost:8080/"
        },
        "id": "2atkcFqWC-HL",
        "outputId": "7627c8f3-2e34-4fd4-f009-fff10fc97b75"
      },
      "execution_count": null,
      "outputs": [
        {
          "output_type": "execute_result",
          "data": {
            "text/plain": [
              "(61284, 20)"
            ]
          },
          "metadata": {},
          "execution_count": 10
        }
      ]
    },
    {
      "cell_type": "code",
      "source": [
        "# As mentioned before, we will ignore the missing values in\n",
        "# 'Eviction Apartment Number'\n",
        "\n",
        "# Looking at the BIN and BBL columns, there are 118 missing values for both\n",
        "\n",
        "\n",
        "# BIN - The Building Identification Number\n",
        "# BBL - The Borough, Block, Lot\n",
        "\n",
        "# The values for the columns above are unique to its location\n",
        "# We do not possess information to fill in the missing values\n",
        "\n",
        "# We are going to drop the rows with null values in the 'BIN' column\n",
        "evictions_df = evictions_df.dropna(subset=['BIN']).reset_index(drop=True)"
      ],
      "metadata": {
        "id": "utCUhC4FEr7W"
      },
      "execution_count": null,
      "outputs": []
    },
    {
      "cell_type": "code",
      "source": [
        "# View the changes in the number of missing values across all columns after dropping rows with\n",
        "# null values in the 'BIN' column\n",
        "\n",
        "# .isna() detects missing values in columns\n",
        "evictions_df.isna().sum()"
      ],
      "metadata": {
        "colab": {
          "base_uri": "https://localhost:8080/"
        },
        "id": "SGzWH4vMHBtJ",
        "outputId": "75da3c70-c93a-4977-e6a0-6cf00482d825"
      },
      "execution_count": null,
      "outputs": [
        {
          "output_type": "execute_result",
          "data": {
            "text/plain": [
              "Court Index Number              0\n",
              "Docket Number                   0\n",
              "Eviction Address                0\n",
              "Eviction Apartment Number    7321\n",
              "Executed Date                   0\n",
              "Marshal First Name              0\n",
              "Marshal Last Name               0\n",
              "Residential/Commercial          0\n",
              "BOROUGH                         0\n",
              "Eviction Postcode               0\n",
              "Ejectment                       0\n",
              "Eviction/Legal Possession       0\n",
              "Latitude                        0\n",
              "Longitude                       0\n",
              "Community Board                 0\n",
              "Council District                0\n",
              "Census Tract                    0\n",
              "BIN                             0\n",
              "BBL                             0\n",
              "NTA                             0\n",
              "dtype: int64"
            ]
          },
          "metadata": {},
          "execution_count": 12
        }
      ]
    },
    {
      "cell_type": "markdown",
      "source": [
        "By dropping the rows with null values in the 'BIN' column, we noticed that there is now no missing values in the 'BBL' column.\n",
        "\n",
        "This is most likely because the rows with missing BIN values are also missing BBL values."
      ],
      "metadata": {
        "id": "Qv3tgvsqHIbF"
      }
    },
    {
      "cell_type": "code",
      "source": [
        "# View the change in the dimension of the DataFrame\n",
        "# .shape shows the number of rows and columns\n",
        "evictions_df.shape"
      ],
      "metadata": {
        "colab": {
          "base_uri": "https://localhost:8080/"
        },
        "id": "ZiZcfRcOIcNW",
        "outputId": "136c3efd-cd6a-45da-a694-34a24284337d"
      },
      "execution_count": null,
      "outputs": [
        {
          "output_type": "execute_result",
          "data": {
            "text/plain": [
              "(61166, 20)"
            ]
          },
          "metadata": {},
          "execution_count": 13
        }
      ]
    },
    {
      "cell_type": "markdown",
      "source": [
        "We've handled most of the nulls and cleaned our data. It is time to remove any duplicate rows."
      ],
      "metadata": {
        "id": "Ef7tXmBTPReR"
      }
    },
    {
      "cell_type": "code",
      "source": [
        "# drop_duplicates() removes duplicate rows based on all columns\n",
        "evictions_df = evictions_df.drop_duplicates()"
      ],
      "metadata": {
        "id": "gOvfJ4UIPpUT"
      },
      "execution_count": null,
      "outputs": []
    },
    {
      "cell_type": "code",
      "source": [
        "# View the change in the dimension of the DataFrame\n",
        "# .shape shows the number of rows and columns\n",
        "evictions_df.shape"
      ],
      "metadata": {
        "colab": {
          "base_uri": "https://localhost:8080/"
        },
        "id": "23wdRmGKPyMw",
        "outputId": "21ead247-c344-4a93-b578-ad9e56f6e884"
      },
      "execution_count": null,
      "outputs": [
        {
          "output_type": "execute_result",
          "data": {
            "text/plain": [
              "(60645, 20)"
            ]
          },
          "metadata": {},
          "execution_count": 15
        }
      ]
    },
    {
      "cell_type": "markdown",
      "source": [
        "5. Now that we have cleaned the data, let's write the cleaned table to a csv file."
      ],
      "metadata": {
        "id": "iiejSNb0Iifg"
      }
    },
    {
      "cell_type": "code",
      "source": [
        "evictions_df.to_csv(\"evictions_clean.csv\", index=False)"
      ],
      "metadata": {
        "id": "v0-jTBArI8Oh"
      },
      "execution_count": null,
      "outputs": []
    }
  ]
}